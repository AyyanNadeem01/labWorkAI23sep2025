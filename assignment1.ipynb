{
  "nbformat": 4,
  "nbformat_minor": 0,
  "metadata": {
    "colab": {
      "provenance": []
    },
    "kernelspec": {
      "name": "python3",
      "display_name": "Python 3"
    },
    "language_info": {
      "name": "python"
    }
  },
  "cells": [
    {
      "cell_type": "code",
      "execution_count": 6,
      "metadata": {
        "colab": {
          "base_uri": "https://localhost:8080/"
        },
        "id": "O1H3ZKy3rtaV",
        "outputId": "11e3fc55-49d0-4713-cffb-84e03e4d1c91"
      },
      "outputs": [
        {
          "output_type": "stream",
          "name": "stdout",
          "text": [
            "DFS Path from Sialkot to Mardan:\n",
            "Sialkot -> Gujranwala -> Lahore -> Faisalabad -> Sargodha -> Rawalpindi -> Islamabad -> Abbottabad -> Swat -> Mardan\n",
            "\n",
            "BFS Shortest Path from Sialkot to Mardan:\n",
            "Sialkot -> Gujranwala -> Lahore -> Islamabad -> Peshawar -> Mardan\n"
          ]
        }
      ],
      "source": [
        "from collections import deque\n",
        "\n",
        "# Step 1: Represent Pakistani Cities Network as an undirected graph )\n",
        "graph = {\n",
        "    \"Sialkot\": [\"Gujranwala\"],\n",
        "    \"Gujranwala\": [\"Sialkot\", \"Lahore\"],\n",
        "    \"Lahore\": [\"Gujranwala\", \"Faisalabad\", \"Multan\", \"Islamabad\"],\n",
        "    \"Faisalabad\": [\"Lahore\", \"Sargodha\", \"Multan\"],\n",
        "    \"Sargodha\": [\"Faisalabad\", \"Rawalpindi\"],\n",
        "    \"Rawalpindi\": [\"Sargodha\", \"Islamabad\"],\n",
        "    \"Islamabad\": [\"Rawalpindi\", \"Lahore\", \"Abbottabad\", \"Peshawar\"],\n",
        "    \"Abbottabad\": [\"Islamabad\", \"Swat\"],\n",
        "    \"Swat\": [\"Abbottabad\", \"Mardan\"],\n",
        "    \"Mardan\": [\"Swat\", \"Peshawar\"],\n",
        "    \"Peshawar\": [\"Mardan\", \"Islamabad\", \"Quetta\"],\n",
        "    \"Quetta\": [\"Peshawar\", \"Multan\", \"Karachi\"],\n",
        "    \"Karachi\": [\"Quetta\", \"Hyderabad\", \"Sukkur\", \"Multan\"],\n",
        "    \"Hyderabad\": [\"Karachi\", \"Sukkur\"],\n",
        "    \"Sukkur\": [\"Hyderabad\", \"Rahim Yar Khan\"],\n",
        "    \"Rahim Yar Khan\": [\"Sukkur\", \"Bahawalpur\"],\n",
        "    \"Bahawalpur\": [\"Rahim Yar Khan\", \"Multan\"],\n",
        "    \"Multan\": [\"Bahawalpur\", \"Faisalabad\", \"Lahore\", \"Quetta\", \"Karachi\"]\n",
        "}\n",
        "\n",
        "# Step 2: DFS (Depth-First Search)\n",
        "def dfs(graph, start, goal, path=None, visited=None):\n",
        "    if path is None:\n",
        "        path = [start]\n",
        "    if visited is None:\n",
        "        visited = set()\n",
        "    visited.add(start)\n",
        "\n",
        "    if start == goal:\n",
        "        return path\n",
        "\n",
        "    for neighbor in graph[start]:\n",
        "        if neighbor not in visited:\n",
        "            new_path = dfs(graph, neighbor, goal, path + [neighbor], visited)\n",
        "            if new_path:\n",
        "                return new_path\n",
        "    return None\n",
        "\n",
        "\n",
        "# Step 3: BFS (Breadth-First Search)\n",
        "def bfs(graph, start, goal):\n",
        "    queue = deque([[start]])\n",
        "    visited = set()\n",
        "\n",
        "    while queue:\n",
        "        path = queue.popleft()\n",
        "        node = path[-1]\n",
        "\n",
        "        if node == goal:\n",
        "            return path\n",
        "\n",
        "        if node not in visited:\n",
        "            visited.add(node)\n",
        "            for neighbor in graph[node]:\n",
        "                new_path = list(path)\n",
        "                new_path.append(neighbor)\n",
        "                queue.append(new_path)\n",
        "    return None\n",
        "\n",
        "\n",
        "# Step 4: Run both searches\n",
        "start_city = \"Sialkot\"\n",
        "goal_city = \"Mardan\"\n",
        "\n",
        "dfs_path = dfs(graph, start_city, goal_city)\n",
        "bfs_path = bfs(graph, start_city, goal_city)\n",
        "\n",
        "# Step 5: Display results\n",
        "print(\"DFS Path from Sialkot to Mardan:\")\n",
        "print(\" -> \".join(dfs_path))\n",
        "\n",
        "print(\"\\nBFS Shortest Path from Sialkot to Mardan:\")\n",
        "print(\" -> \".join(bfs_path))\n"
      ]
    }
  ]
}